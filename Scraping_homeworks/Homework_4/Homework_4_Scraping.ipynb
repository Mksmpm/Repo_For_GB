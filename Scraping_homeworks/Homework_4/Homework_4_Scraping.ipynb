{
 "cells": [
  {
   "cell_type": "markdown",
   "id": "2cc378e1",
   "metadata": {},
   "source": [
    "#### Import all the necessary libs:"
   ]
  },
  {
   "cell_type": "code",
   "execution_count": 1,
   "id": "6d9d8306",
   "metadata": {},
   "outputs": [],
   "source": [
    "import requests\n",
    "from lxml import html\n",
    "from datetime import datetime\n",
    "import pymongo\n",
    "import pprint"
   ]
  },
  {
   "cell_type": "markdown",
   "id": "a215f5a0",
   "metadata": {},
   "source": [
    "#### Function that returns a DOM object by using the url link:"
   ]
  },
  {
   "cell_type": "code",
   "execution_count": 2,
   "id": "5f945ad4",
   "metadata": {},
   "outputs": [],
   "source": [
    "def get_dom_from_url(session):\n",
    "    url = \"https://yandex.ru/news/\"\n",
    "    headers = {\n",
    "    \"User-Agent\":\"Mozilla/5.0 (Windows NT 10.0; Win64; x64) AppleWebKit/537.36 (KHTML, like Gecko) Chrome/103.0.0.0 Safari/537.36\"\n",
    "    }\n",
    "    try:\n",
    "        response = session.get(url, headers=headers)\n",
    "        return html.fromstring(response.text)\n",
    "    except Exception as e:\n",
    "        print(f\"An error occurred while connecting the URL {url} - {e}\")"
   ]
  },
  {
   "cell_type": "markdown",
   "id": "5217dc03",
   "metadata": {},
   "source": [
    "#### Function that opens a mongodb connection and returns a collection:"
   ]
  },
  {
   "cell_type": "code",
   "execution_count": 3,
   "id": "9a78d776",
   "metadata": {},
   "outputs": [],
   "source": [
    "def connect_to_mongodb():\n",
    "    try:\n",
    "        client= pymongo.MongoClient('127.0.0.1',27017)\n",
    "        db = client['YandexNews'] #database\n",
    "        news = db.news #collection\n",
    "        news.create_index([('title', 1)], name = \"unique_index\", unique=True) \n",
    "        # unique field is title, link doesnt work properly. Maybe compound index (time + title) will be ok too.\n",
    "        return news\n",
    "    except pymongo.errors.ConnectionFailure as e:\n",
    "        print(f\"Mongodb connection has failed. {e}\")"
   ]
  },
  {
   "cell_type": "markdown",
   "id": "760ee704",
   "metadata": {},
   "source": [
    "#### Function that inserts items into mongodb"
   ]
  },
  {
   "cell_type": "code",
   "execution_count": 4,
   "id": "0637e36e",
   "metadata": {},
   "outputs": [],
   "source": [
    "def insert_new_items(collection, document):\n",
    "    try: \n",
    "        collection.insert_one(document)\n",
    "        global inserts\n",
    "        inserts += 1 #count new inserts\n",
    "    except pymongo.errors.DuplicateKeyError:\n",
    "        pass"
   ]
  },
  {
   "cell_type": "markdown",
   "id": "2fa75d40",
   "metadata": {},
   "source": [
    "#### Function that returns a full datetime using received hours and minutes from yandex:"
   ]
  },
  {
   "cell_type": "code",
   "execution_count": 5,
   "id": "818fe4cf",
   "metadata": {},
   "outputs": [],
   "source": [
    "def to_full_datetime(received_time):\n",
    "    string_time = datetime.now().strftime(\"%Y-%m-%d \")+received_time #make a string using current date and received_time\n",
    "    return datetime.strptime(string_time, \"%Y-%m-%d %H:%M\") # return full datetime"
   ]
  },
  {
   "cell_type": "markdown",
   "id": "726c686a",
   "metadata": {},
   "source": [
    "#### Function that scraps news from DOM using XPath"
   ]
  },
  {
   "cell_type": "code",
   "execution_count": 6,
   "id": "d1317f7e",
   "metadata": {},
   "outputs": [],
   "source": [
    "def scrap_news(session, collection):\n",
    "    global inserts \n",
    "    inserts = 0\n",
    "    dom = get_dom_from_url(session)\n",
    "    news = dom.xpath(\"//div[contains(@class,'mg-card_flexible') and (contains(@class,'fixed') or (contains(@class,'stretching')))]\")\n",
    "    for article in news:\n",
    "        article_data = {}\n",
    "        title = article.xpath(\".//a/text()\")[0].replace('\\xa0',' ')\n",
    "        source = article.xpath(\".//a/text()\")[1]\n",
    "        link = article.xpath(\".//a/@href\")[0]\n",
    "        received_time = article.xpath(\".//span[@class='mg-card-source__time']/text()\")[0]\n",
    "        time_published = to_full_datetime(received_time)\n",
    "        article_data['title'] = title\n",
    "        article_data['source'] = source\n",
    "        article_data['link'] = link\n",
    "        article_data['time_published'] = time_published\n",
    "        insert_new_items(collection, article_data)\n",
    "    print(f\"Found {len(news)} articles. {inserts} new articles added to mongodb\")"
   ]
  },
  {
   "cell_type": "markdown",
   "id": "e3508038",
   "metadata": {},
   "source": [
    "\n",
    "#### Main function:\n",
    "\n"
   ]
  },
  {
   "cell_type": "code",
   "execution_count": 7,
   "id": "5914244f",
   "metadata": {},
   "outputs": [],
   "source": [
    "def main():\n",
    "    collection = connect_to_mongodb() # connect to mongodb and open collection\n",
    "    session = requests.Session() # open new session\n",
    "    scrap_news(session, collection) #scrap news"
   ]
  },
  {
   "cell_type": "code",
   "execution_count": 10,
   "id": "e746bca2",
   "metadata": {},
   "outputs": [
    {
     "name": "stdout",
     "output_type": "stream",
     "text": [
      "Found 0 articles. 0 new articles added to mongodb\n"
     ]
    }
   ],
   "source": [
    "main()"
   ]
  }
 ],
 "metadata": {
  "kernelspec": {
   "display_name": "Python 3 (ipykernel)",
   "language": "python",
   "name": "python3"
  },
  "language_info": {
   "codemirror_mode": {
    "name": "ipython",
    "version": 3
   },
   "file_extension": ".py",
   "mimetype": "text/x-python",
   "name": "python",
   "nbconvert_exporter": "python",
   "pygments_lexer": "ipython3",
   "version": "3.9.12"
  }
 },
 "nbformat": 4,
 "nbformat_minor": 5
}
