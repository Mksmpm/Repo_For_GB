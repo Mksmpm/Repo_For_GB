{
 "cells": [
  {
   "cell_type": "markdown",
   "id": "857bc49c",
   "metadata": {},
   "source": [
    "### Необходимо собрать информацию о вакансиях на вводимую должность (используем input или через аргументы получаем должность) с сайтов HH(обязательно) и/или Superjob(по желанию). Приложение должно анализировать несколько страниц сайта (также вводим через input или аргументы). Получившийся список должен содержать в себе минимум:\n",
    "- Наименование вакансии.\n",
    "- Предлагаемую зарплату (разносим в три поля: минимальная и максимальная и валюта. цифры преобразуем к цифрам).\n",
    "- Ссылку на саму вакансию.\n",
    "- Сайт, откуда собрана вакансия. (можно прописать статично hh.ru или superjob.ru)"
   ]
  },
  {
   "cell_type": "markdown",
   "id": "eb851153",
   "metadata": {},
   "source": [
    "#### Import all the necessary libs:"
   ]
  },
  {
   "cell_type": "code",
   "execution_count": 17,
   "id": "da7c4892",
   "metadata": {},
   "outputs": [],
   "source": [
    "import requests\n",
    "from bs4 import BeautifulSoup\n",
    "import pandas as pd\n",
    "from urllib.parse import urlencode\n",
    "from datetime import datetime\n",
    "import pymongo"
   ]
  },
  {
   "cell_type": "markdown",
   "id": "8360e451",
   "metadata": {},
   "source": [
    "#### Job title constant for hh.ru scraping (or can be arg in .py script):"
   ]
  },
  {
   "cell_type": "code",
   "execution_count": 18,
   "id": "f889f59d",
   "metadata": {},
   "outputs": [],
   "source": [
    "job_title = \"Data engineer\" "
   ]
  },
  {
   "cell_type": "markdown",
   "id": "a6fa90f4",
   "metadata": {},
   "source": [
    "#### Function that returns an appropriate url link for scraping:"
   ]
  },
  {
   "cell_type": "code",
   "execution_count": 19,
   "id": "1bd236c0",
   "metadata": {},
   "outputs": [],
   "source": [
    "def prepare_url(job_title, page=0):\n",
    "    #job_title = \"Data engineer\"\n",
    "    url = \"https://hh.ru/search/vacancy\"\n",
    "    params = {\n",
    "    \"text\": job_title,\n",
    "    \"from\":\"suggest_post\",\n",
    "    \"items_on_page\":20,\n",
    "    \"clusters\":\"true\",\n",
    "    \"ored_clusters\":\"true\",\n",
    "    \"enable_snippets\":\"true\",\n",
    "    \"page\":page}\n",
    "    params_encoded = urlencode(params)\n",
    "    return f\"{url}?{params_encoded}\"\n",
    "\n",
    "    "
   ]
  },
  {
   "cell_type": "markdown",
   "id": "b4025282",
   "metadata": {},
   "source": [
    "#### Function that returns a DOM object by going to a specific page using generic url link:"
   ]
  },
  {
   "cell_type": "code",
   "execution_count": 20,
   "id": "31021a97",
   "metadata": {},
   "outputs": [],
   "source": [
    "def get_dom_from_url(job_title, session, page = 0):\n",
    "    headers = {\n",
    "    \"User-Agent\":\"Mozilla/5.0 (Windows NT 10.0; Win64; x64) AppleWebKit/537.36 (KHTML, like Gecko) Chrome/103.0.0.0 Safari/537.36\"\n",
    "    }\n",
    "    response = session.get(prepare_url(job_title, page), headers=headers)\n",
    "    return BeautifulSoup(response.text, \"html.parser\")\n"
   ]
  },
  {
   "cell_type": "markdown",
   "id": "1fa46609",
   "metadata": {},
   "source": [
    "#### Function that returns an integer value of maximum pages for current \"job_title\" url search:"
   ]
  },
  {
   "cell_type": "code",
   "execution_count": 21,
   "id": "5252dc94",
   "metadata": {},
   "outputs": [],
   "source": [
    "def get_search_max_pages(job_title, session):\n",
    "    response = get_dom_from_url(job_title, session)\n",
    "    return int(response.find(\"a\",{\"class\":\"bloko-button\",\n",
    "                              \"data-qa\":\"pager-next\" }).previous_sibling.find('a',{\"data-qa\":\"pager-page\"}).text)\n",
    "    "
   ]
  },
  {
   "cell_type": "markdown",
   "id": "dc7315b6",
   "metadata": {},
   "source": [
    "#### Function that scraps through the vacancies on the page and writes it into the vacancy_list:"
   ]
  },
  {
   "cell_type": "code",
   "execution_count": 22,
   "id": "3f842124",
   "metadata": {},
   "outputs": [],
   "source": [
    "def scrap_page(vacancies, vacancy_list, collection):\n",
    "    for vacancy in vacancies:\n",
    "            vacancy_info = {}\n",
    "            vacancy_data = vacancy.find(\"div\", {\"class\":\"\"})\n",
    "            vacancy_titile = vacancy_data.find(\"a\", {\"data-qa\":\"vacancy-serp__vacancy-title\"}).text\n",
    "            vacancy_link = vacancy_data.find(\"a\", {\"data-qa\":\"vacancy-serp__vacancy-title\"}).get(\"href\")\n",
    "            if vacancy_data.find(\"span\", {\"data-qa\":\"vacancy-serp__vacancy-compensation\"}) == None: # if salary is None then hardcode None\n",
    "                vacancy_salary = None\n",
    "                salary_from = None\n",
    "                salary_to = None\n",
    "                salary_currency = None\n",
    "            else:\n",
    "                vacancy_salary = vacancy_data.find(\"span\", {\"data-qa\":\"vacancy-serp__vacancy-compensation\"}).text\n",
    "                salary_currency = vacancy_salary.split(\" \")[-1].replace(\".\",\"\")\n",
    "                if (\"от\" in vacancy_salary):\n",
    "                    salary_from = int(vacancy_salary.split(\" \")[1].replace(\"\\u202f\", \"\"))\n",
    "                    salary_to = None\n",
    "                elif \"до\" in vacancy_salary:\n",
    "                    salary_from = None\n",
    "                    salary_to = int(vacancy_salary.split(\" \")[1].replace(\"\\u202f\", \"\"))\n",
    "                elif \"–\" in vacancy_salary:\n",
    "                    salary_from = int(vacancy_salary.split(\" \")[0].replace(\"\\u202f\", \"\"))\n",
    "                    salary_to = int(vacancy_salary.split(\" \")[2].replace(\"\\u202f\", \"\"))\n",
    "                else:\n",
    "                    salary_from = None\n",
    "                    salary_to = None\n",
    "            vacancy_info[\"vacancy_titile\"] = vacancy_titile\n",
    "            vacancy_info[\"salary_from\"] = salary_from\n",
    "            vacancy_info[\"salary_to\"] = salary_to\n",
    "            vacancy_info[\"salary_currency\"] = salary_currency\n",
    "            vacancy_info[\"vacancy_link\"] = vacancy_link\n",
    "            vacancy_info[\"site_from\"] = \"hh.ru\"\n",
    "            vacancy_list.append(vacancy_info)\n",
    "            insert_new_items(collection, vacancy_info)\n",
    "    "
   ]
  },
  {
   "cell_type": "markdown",
   "id": "e4450305",
   "metadata": {},
   "source": [
    "#### Function that iterates through the available pages and runs the \"scrap_page()\" function for each applicable url page:"
   ]
  },
  {
   "cell_type": "code",
   "execution_count": 23,
   "id": "fdfca3ab",
   "metadata": {},
   "outputs": [],
   "source": [
    "def scrap_pages(job_title, session, vacancy_list, collection):\n",
    "    global inserts \n",
    "    inserts = 0\n",
    "    max_pages = get_search_max_pages(job_title, session)\n",
    "    print(f\"Starting scraping through pages for {job_title} position\")\n",
    "    for page in range(max_pages):\n",
    "        print(f\"Scraping page {page+1} out of {max_pages}...\")\n",
    "        page_dom = get_dom_from_url(job_title, session, page)\n",
    "        vacancies = page_dom.find_all(\"div\", {\"class\":\"vacancy-serp-item-body__main-info\"})\n",
    "        scrap_page(vacancies, vacancy_list, collection)\n",
    "    print(f\"Scraping is finished, found total of {len(vacancy_list)} vacancies\")\n",
    "    print(f\"Total of {inserts} new documents added to mongodb\")\n",
    "        \n",
    "        \n",
    "        "
   ]
  },
  {
   "cell_type": "markdown",
   "id": "e48cdafe",
   "metadata": {},
   "source": [
    "#### Function that writes all the scraped data throught pages into one .csv file:"
   ]
  },
  {
   "cell_type": "code",
   "execution_count": 24,
   "id": "36a5083e",
   "metadata": {},
   "outputs": [],
   "source": [
    "def write_to_csv(job_title, vacancy_list):\n",
    "    df = pd.DataFrame(vacancy_list)\n",
    "    current_time = datetime.now().strftime(\"%Y-%m-%d_%H-%M-%S\")\n",
    "    filename = f\"{current_time}_{job_title}_HH_Vacancies.csv\"\n",
    "    df.to_csv(filename, sep=';', float_format='%.2f', index=False)\n",
    "    print(f'File \"{filename}\" successfully generated')"
   ]
  },
  {
   "cell_type": "markdown",
   "id": "78422e3d",
   "metadata": {},
   "source": [
    "#### Function that opens a mangodb connection:"
   ]
  },
  {
   "cell_type": "code",
   "execution_count": 25,
   "id": "e95a9062",
   "metadata": {},
   "outputs": [],
   "source": [
    "def connect_to_mangodb():\n",
    "    try:\n",
    "        client= pymongo.MongoClient('127.0.0.1',27017)\n",
    "        db = client['HH_ru_vacancies'] #database\n",
    "        vacancies = db.vacancies #collection\n",
    "        vacancies.create_index([('vacancy_link', 1)], name = \"unique_index\", unique=True)\n",
    "        return vacancies\n",
    "    except pymongo.errors.ConnectionFailure as e:\n",
    "        print(f\"Mongodb connection has failed. {e}\")\n"
   ]
  },
  {
   "cell_type": "markdown",
   "id": "0f1e20b3",
   "metadata": {},
   "source": [
    "#### Function that writes new documents into the mongodb"
   ]
  },
  {
   "cell_type": "code",
   "execution_count": 26,
   "id": "e055f0e0",
   "metadata": {},
   "outputs": [],
   "source": [
    "def insert_new_items(collection, document):\n",
    "    try: \n",
    "        collection.insert_one(document)\n",
    "        global inserts\n",
    "        inserts += 1\n",
    "    except pymongo.errors.DuplicateKeyError:\n",
    "        pass"
   ]
  },
  {
   "cell_type": "markdown",
   "id": "8d69e6e7",
   "metadata": {},
   "source": [
    "#### Main function:"
   ]
  },
  {
   "cell_type": "code",
   "execution_count": 27,
   "id": "5531155d",
   "metadata": {},
   "outputs": [],
   "source": [
    "def main(job_title):\n",
    "    vacancy_list = []\n",
    "    collection = connect_to_mangodb()\n",
    "    session = requests.Session()\n",
    "    scrap_pages(job_title, session, vacancy_list, collection)\n",
    "    write_to_csv(job_title, vacancy_list)"
   ]
  },
  {
   "cell_type": "code",
   "execution_count": 31,
   "id": "c2f89561",
   "metadata": {
    "scrolled": true
   },
   "outputs": [
    {
     "name": "stdout",
     "output_type": "stream",
     "text": [
      "Starting scraping through pages for Data engineer position\n",
      "Scraping page 1 out of 78...\n",
      "Scraping page 2 out of 78...\n",
      "Scraping page 3 out of 78...\n",
      "Scraping page 4 out of 78...\n",
      "Scraping page 5 out of 78...\n",
      "Scraping page 6 out of 78...\n",
      "Scraping page 7 out of 78...\n",
      "Scraping page 8 out of 78...\n",
      "Scraping page 9 out of 78...\n",
      "Scraping page 10 out of 78...\n",
      "Scraping page 11 out of 78...\n",
      "Scraping page 12 out of 78...\n",
      "Scraping page 13 out of 78...\n",
      "Scraping page 14 out of 78...\n",
      "Scraping page 15 out of 78...\n",
      "Scraping page 16 out of 78...\n",
      "Scraping page 17 out of 78...\n",
      "Scraping page 18 out of 78...\n",
      "Scraping page 19 out of 78...\n",
      "Scraping page 20 out of 78...\n",
      "Scraping page 21 out of 78...\n",
      "Scraping page 22 out of 78...\n",
      "Scraping page 23 out of 78...\n",
      "Scraping page 24 out of 78...\n",
      "Scraping page 25 out of 78...\n",
      "Scraping page 26 out of 78...\n",
      "Scraping page 27 out of 78...\n",
      "Scraping page 28 out of 78...\n",
      "Scraping page 29 out of 78...\n",
      "Scraping page 30 out of 78...\n",
      "Scraping page 31 out of 78...\n",
      "Scraping page 32 out of 78...\n",
      "Scraping page 33 out of 78...\n",
      "Scraping page 34 out of 78...\n",
      "Scraping page 35 out of 78...\n",
      "Scraping page 36 out of 78...\n",
      "Scraping page 37 out of 78...\n",
      "Scraping page 38 out of 78...\n",
      "Scraping page 39 out of 78...\n",
      "Scraping page 40 out of 78...\n",
      "Scraping page 41 out of 78...\n",
      "Scraping page 42 out of 78...\n",
      "Scraping page 43 out of 78...\n",
      "Scraping page 44 out of 78...\n",
      "Scraping page 45 out of 78...\n",
      "Scraping page 46 out of 78...\n",
      "Scraping page 47 out of 78...\n",
      "Scraping page 48 out of 78...\n",
      "Scraping page 49 out of 78...\n",
      "Scraping page 50 out of 78...\n",
      "Scraping page 51 out of 78...\n",
      "Scraping page 52 out of 78...\n",
      "Scraping page 53 out of 78...\n",
      "Scraping page 54 out of 78...\n",
      "Scraping page 55 out of 78...\n",
      "Scraping page 56 out of 78...\n",
      "Scraping page 57 out of 78...\n",
      "Scraping page 58 out of 78...\n",
      "Scraping page 59 out of 78...\n",
      "Scraping page 60 out of 78...\n",
      "Scraping page 61 out of 78...\n",
      "Scraping page 62 out of 78...\n",
      "Scraping page 63 out of 78...\n",
      "Scraping page 64 out of 78...\n",
      "Scraping page 65 out of 78...\n",
      "Scraping page 66 out of 78...\n",
      "Scraping page 67 out of 78...\n",
      "Scraping page 68 out of 78...\n",
      "Scraping page 69 out of 78...\n",
      "Scraping page 70 out of 78...\n",
      "Scraping page 71 out of 78...\n",
      "Scraping page 72 out of 78...\n",
      "Scraping page 73 out of 78...\n",
      "Scraping page 74 out of 78...\n",
      "Scraping page 75 out of 78...\n",
      "Scraping page 76 out of 78...\n",
      "Scraping page 77 out of 78...\n",
      "Scraping page 78 out of 78...\n",
      "Scraping is finished, found total of 1553 vacancies\n",
      "Total of 128 documents added to mongodb\n",
      "File \"2022-07-19_11-20-01_Data engineer_HH_Vacancies.csv\" successfully generated\n"
     ]
    }
   ],
   "source": [
    "main(job_title)"
   ]
  },
  {
   "cell_type": "markdown",
   "id": "ff26f454",
   "metadata": {},
   "source": [
    "#### Написать функцию, которая производит поиск и выводит на экран вакансии с заработной платой больше введённой суммы (необходимо анализировать оба поля зарплаты). То есть цифра вводится одна, а запрос проверяет оба поля"
   ]
  },
  {
   "cell_type": "code",
   "execution_count": 39,
   "id": "55f84ca1",
   "metadata": {},
   "outputs": [
    {
     "name": "stdout",
     "output_type": "stream",
     "text": [
      "{'_id': ObjectId('62d668c583f80a0cf6eacec3'), 'vacancy_titile': 'Data Engineer', 'salary_from': 160000, 'salary_to': None, 'salary_currency': 'руб', 'vacancy_link': 'https://hh.ru/vacancy/67039410?from=vacancy_search_list&hhtmFrom=vacancy_search_list&query=Data%20engineer', 'site_from': 'hh.ru'}\n",
      "{'_id': ObjectId('62d668c783f80a0cf6eacedc'), 'vacancy_titile': 'Senior Data Engineer', 'salary_from': 250000, 'salary_to': None, 'salary_currency': 'руб', 'vacancy_link': 'https://hh.ru/vacancy/67255069?from=vacancy_search_list&hhtmFrom=vacancy_search_list&query=Data%20engineer', 'site_from': 'hh.ru'}\n",
      "{'_id': ObjectId('62d668c883f80a0cf6eacee0'), 'vacancy_titile': 'Data Engineer / MLOps', 'salary_from': 300000, 'salary_to': 400000, 'salary_currency': 'руб', 'vacancy_link': 'https://hh.ru/vacancy/67369863?from=vacancy_search_list&hhtmFrom=vacancy_search_list&query=Data%20engineer', 'site_from': 'hh.ru'}\n",
      "{'_id': ObjectId('62d668c883f80a0cf6eacee1'), 'vacancy_titile': 'Data Engineer / MLOps', 'salary_from': 300000, 'salary_to': 400000, 'salary_currency': 'руб', 'vacancy_link': 'https://hh.ru/vacancy/67369864?from=vacancy_search_list&hhtmFrom=vacancy_search_list&query=Data%20engineer', 'site_from': 'hh.ru'}\n",
      "{'_id': ObjectId('62d668c883f80a0cf6eaceeb'), 'vacancy_titile': 'BI Engineer (Tableau)', 'salary_from': 250000, 'salary_to': None, 'salary_currency': 'руб', 'vacancy_link': 'https://hh.ru/vacancy/47882723?from=vacancy_search_list&hhtmFrom=vacancy_search_list&query=Data%20engineer', 'site_from': 'hh.ru'}\n",
      "{'_id': ObjectId('62d668c983f80a0cf6eacef5'), 'vacancy_titile': 'Data Engineer', 'salary_from': 300000, 'salary_to': 400000, 'salary_currency': 'руб', 'vacancy_link': 'https://hh.ru/vacancy/67494470?from=vacancy_search_list&hhtmFrom=vacancy_search_list&query=Data%20engineer', 'site_from': 'hh.ru'}\n",
      "{'_id': ObjectId('62d668c983f80a0cf6eacf05'), 'vacancy_titile': 'Data scientist', 'salary_from': 150000, 'salary_to': 200000, 'salary_currency': 'руб', 'vacancy_link': 'https://hh.ru/vacancy/66737331?from=vacancy_search_list&hhtmFrom=vacancy_search_list&query=Data%20engineer', 'site_from': 'hh.ru'}\n",
      "{'_id': ObjectId('62d668c983f80a0cf6eacf07'), 'vacancy_titile': 'Data expert / Главный эксперт по анализу данных', 'salary_from': 250000, 'salary_to': 500000, 'salary_currency': 'руб', 'vacancy_link': 'https://hh.ru/vacancy/67439152?from=vacancy_search_list&hhtmFrom=vacancy_search_list&query=Data%20engineer', 'site_from': 'hh.ru'}\n",
      "{'_id': ObjectId('62d668cb83f80a0cf6eacf16'), 'vacancy_titile': 'Data Engineer', 'salary_from': 150000, 'salary_to': 250000, 'salary_currency': 'руб', 'vacancy_link': 'https://hh.ru/vacancy/67472113?from=vacancy_search_list&hhtmFrom=vacancy_search_list&query=Data%20engineer', 'site_from': 'hh.ru'}\n",
      "{'_id': ObjectId('62d668ce83f80a0cf6eacf3b'), 'vacancy_titile': 'Data Engineer (уровень не ниже среднего)', 'salary_from': 140000, 'salary_to': 180000, 'salary_currency': 'руб', 'vacancy_link': 'https://hh.ru/vacancy/67663330?from=vacancy_search_list&hhtmFrom=vacancy_search_list&query=Data%20engineer', 'site_from': 'hh.ru'}\n",
      "{'_id': ObjectId('62d668ce83f80a0cf6eacf3d'), 'vacancy_titile': 'ML Engineer \\\\ Data scientist', 'salary_from': 200000, 'salary_to': 700000, 'salary_currency': 'руб', 'vacancy_link': 'https://hh.ru/vacancy/67475260?from=vacancy_search_list&hhtmFrom=vacancy_search_list&query=Data%20engineer', 'site_from': 'hh.ru'}\n",
      "{'_id': ObjectId('62d668ce83f80a0cf6eacf43'), 'vacancy_titile': 'Middle/Senior Data Scientist', 'salary_from': 200000, 'salary_to': None, 'salary_currency': 'руб', 'vacancy_link': 'https://hh.ru/vacancy/67231044?from=vacancy_search_list&hhtmFrom=vacancy_search_list&query=Data%20engineer', 'site_from': 'hh.ru'}\n",
      "{'_id': ObjectId('62d668cf83f80a0cf6eacf47'), 'vacancy_titile': 'Data Engineer/ ML Ops/ Разработчик DWH', 'salary_from': 170000, 'salary_to': None, 'salary_currency': 'руб', 'vacancy_link': 'https://hh.ru/vacancy/67638048?from=vacancy_search_list&hhtmFrom=vacancy_search_list&query=Data%20engineer', 'site_from': 'hh.ru'}\n",
      "{'_id': ObjectId('62d668d083f80a0cf6eacf5c'), 'vacancy_titile': 'QA Automation Engineer (Middle/Junior)', 'salary_from': 150000, 'salary_to': None, 'salary_currency': 'руб', 'vacancy_link': 'https://hh.ru/vacancy/67542118?from=vacancy_search_list&hhtmFrom=vacancy_search_list&query=Data%20engineer', 'site_from': 'hh.ru'}\n",
      "{'_id': ObjectId('62d668d083f80a0cf6eacf66'), 'vacancy_titile': 'Senior Data Engineer / MLOps', 'salary_from': None, 'salary_to': 350000, 'salary_currency': 'руб', 'vacancy_link': 'https://hh.ru/vacancy/67825965?from=vacancy_search_list&hhtmFrom=vacancy_search_list&query=Data%20engineer', 'site_from': 'hh.ru'}\n",
      "{'_id': ObjectId('62d668d283f80a0cf6eacf78'), 'vacancy_titile': 'Middle/Leading Software Development Engineer (С++)', 'salary_from': 180000, 'salary_to': 380000, 'salary_currency': 'руб', 'vacancy_link': 'https://hh.ru/vacancy/67861733?from=vacancy_search_list&hhtmFrom=vacancy_search_list&query=Data%20engineer', 'site_from': 'hh.ru'}\n",
      "{'_id': ObjectId('62d668d383f80a0cf6eacf80'), 'vacancy_titile': 'Middle/Leading Software Development Engineer (С++)', 'salary_from': 180000, 'salary_to': 380000, 'salary_currency': 'руб', 'vacancy_link': 'https://hh.ru/vacancy/67854382?from=vacancy_search_list&hhtmFrom=vacancy_search_list&query=Data%20engineer', 'site_from': 'hh.ru'}\n",
      "{'_id': ObjectId('62d668d383f80a0cf6eacf84'), 'vacancy_titile': 'Senior Data Engineer (GKT Team)', 'salary_from': 300000, 'salary_to': None, 'salary_currency': 'руб', 'vacancy_link': 'https://hh.ru/vacancy/55146470?from=vacancy_search_list&hhtmFrom=vacancy_search_list&query=Data%20engineer', 'site_from': 'hh.ru'}\n",
      "{'_id': ObjectId('62d668d383f80a0cf6eacf85'), 'vacancy_titile': 'Senior Data Engineer (GKT Team)', 'salary_from': 300000, 'salary_to': None, 'salary_currency': 'руб', 'vacancy_link': 'https://hh.ru/vacancy/55146469?from=vacancy_search_list&hhtmFrom=vacancy_search_list&query=Data%20engineer', 'site_from': 'hh.ru'}\n",
      "{'_id': ObjectId('62d668d383f80a0cf6eacf86'), 'vacancy_titile': 'Senior Data Engineer (GKT Team)', 'salary_from': 300000, 'salary_to': None, 'salary_currency': 'руб', 'vacancy_link': 'https://hh.ru/vacancy/55146468?from=vacancy_search_list&hhtmFrom=vacancy_search_list&query=Data%20engineer', 'site_from': 'hh.ru'}\n",
      "{'_id': ObjectId('62d668d383f80a0cf6eacf87'), 'vacancy_titile': 'Senior Data Engineer (GKT Team)', 'salary_from': 300000, 'salary_to': None, 'salary_currency': 'руб', 'vacancy_link': 'https://hh.ru/vacancy/55146467?from=vacancy_search_list&hhtmFrom=vacancy_search_list&query=Data%20engineer', 'site_from': 'hh.ru'}\n",
      "{'_id': ObjectId('62d668d583f80a0cf6eacf9c'), 'vacancy_titile': 'Middle/Senior/Leading Software Development Engineer (С++)', 'salary_from': 180000, 'salary_to': 380000, 'salary_currency': 'руб', 'vacancy_link': 'https://hh.ru/vacancy/67853170?from=vacancy_search_list&hhtmFrom=vacancy_search_list&query=Data%20engineer', 'site_from': 'hh.ru'}\n",
      "{'_id': ObjectId('62d668d583f80a0cf6eacfa0'), 'vacancy_titile': 'Senior Data Engineer (Wind Team) / Remote', 'salary_from': 300000, 'salary_to': None, 'salary_currency': 'руб', 'vacancy_link': 'https://hh.ru/vacancy/67120953?from=vacancy_search_list&hhtmFrom=vacancy_search_list&query=Data%20engineer', 'site_from': 'hh.ru'}\n",
      "{'_id': ObjectId('62d668d783f80a0cf6eacfae'), 'vacancy_titile': 'Инженер внедрений', 'salary_from': 120000, 'salary_to': 160000, 'salary_currency': 'руб', 'vacancy_link': 'https://hh.ru/vacancy/67339374?from=vacancy_search_list&hhtmFrom=vacancy_search_list&query=Data%20engineer', 'site_from': 'hh.ru'}\n",
      "{'_id': ObjectId('62d668d783f80a0cf6eacfb8'), 'vacancy_titile': 'Data engineer', 'salary_from': 200000, 'salary_to': None, 'salary_currency': 'руб', 'vacancy_link': 'https://hh.ru/vacancy/55441562?from=vacancy_search_list&hhtmFrom=vacancy_search_list&query=Data%20engineer', 'site_from': 'hh.ru'}\n",
      "{'_id': ObjectId('62d668d883f80a0cf6eacfc4'), 'vacancy_titile': 'Ведущий инженер проекта', 'salary_from': 100000, 'salary_to': 130000, 'salary_currency': 'руб', 'vacancy_link': 'https://hh.ru/vacancy/67847233?from=vacancy_search_list&hhtmFrom=vacancy_search_list&query=Data%20engineer', 'site_from': 'hh.ru'}\n",
      "{'_id': ObjectId('62d668d883f80a0cf6eacfc9'), 'vacancy_titile': 'Senior Data Scientist/ ML Engineer', 'salary_from': None, 'salary_to': 350000, 'salary_currency': 'руб', 'vacancy_link': 'https://hh.ru/vacancy/66921653?from=vacancy_search_list&hhtmFrom=vacancy_search_list&query=Data%20engineer', 'site_from': 'hh.ru'}\n",
      "{'_id': ObjectId('62d668d983f80a0cf6eacfd2'), 'vacancy_titile': 'Data Engineer / Support', 'salary_from': 80000, 'salary_to': 120000, 'salary_currency': 'руб', 'vacancy_link': 'https://hh.ru/vacancy/67685192?from=vacancy_search_list&hhtmFrom=vacancy_search_list&query=Data%20engineer', 'site_from': 'hh.ru'}\n",
      "{'_id': ObjectId('62d668d983f80a0cf6eacfd3'), 'vacancy_titile': 'Data Engineer', 'salary_from': 115000, 'salary_to': None, 'salary_currency': 'руб', 'vacancy_link': 'https://hh.ru/vacancy/55301819?from=vacancy_search_list&hhtmFrom=vacancy_search_list&query=Data%20engineer', 'site_from': 'hh.ru'}\n",
      "{'_id': ObjectId('62d668d983f80a0cf6eacfdd'), 'vacancy_titile': 'Ведущий тестировщик (QA-инженер)', 'salary_from': 120000, 'salary_to': None, 'salary_currency': 'руб', 'vacancy_link': 'https://hh.ru/vacancy/67805953?from=vacancy_search_list&hhtmFrom=vacancy_search_list&query=Data%20engineer', 'site_from': 'hh.ru'}\n",
      "{'_id': ObjectId('62d668d983f80a0cf6eacfe1'), 'vacancy_titile': 'Senior Software Engineer, Database Engine (Java/C++)', 'salary_from': 400000, 'salary_to': None, 'salary_currency': 'руб', 'vacancy_link': 'https://hh.ru/vacancy/67732357?from=vacancy_search_list&hhtmFrom=vacancy_search_list&query=Data%20engineer', 'site_from': 'hh.ru'}\n",
      "{'_id': ObjectId('62d668d983f80a0cf6eacfe2'), 'vacancy_titile': 'Senior Software Engineer, Database Engine (Java / C++)', 'salary_from': 400000, 'salary_to': None, 'salary_currency': 'руб', 'vacancy_link': 'https://hh.ru/vacancy/67732313?from=vacancy_search_list&hhtmFrom=vacancy_search_list&query=Data%20engineer', 'site_from': 'hh.ru'}\n",
      "{'_id': ObjectId('62d668db83f80a0cf6eacfec'), 'vacancy_titile': 'Data Engineer / Архитектор данных', 'salary_from': 150000, 'salary_to': 250000, 'salary_currency': 'руб', 'vacancy_link': 'https://hh.ru/vacancy/67707391?from=vacancy_search_list&hhtmFrom=vacancy_search_list&query=Data%20engineer', 'site_from': 'hh.ru'}\n",
      "{'_id': ObjectId('62d668db83f80a0cf6eacfed'), 'vacancy_titile': 'Data Engineer / Архитектор данных', 'salary_from': 150000, 'salary_to': 250000, 'salary_currency': 'руб', 'vacancy_link': 'https://hh.ru/vacancy/67707392?from=vacancy_search_list&hhtmFrom=vacancy_search_list&query=Data%20engineer', 'site_from': 'hh.ru'}\n",
      "{'_id': ObjectId('62d668db83f80a0cf6eacfee'), 'vacancy_titile': 'Data Engineer / Архитектор данных', 'salary_from': 150000, 'salary_to': 250000, 'salary_currency': 'руб', 'vacancy_link': 'https://hh.ru/vacancy/67707393?from=vacancy_search_list&hhtmFrom=vacancy_search_list&query=Data%20engineer', 'site_from': 'hh.ru'}\n",
      "{'_id': ObjectId('62d668db83f80a0cf6eacfef'), 'vacancy_titile': 'Data Engineer / Архитектор данных', 'salary_from': 150000, 'salary_to': 250000, 'salary_currency': 'руб', 'vacancy_link': 'https://hh.ru/vacancy/67707394?from=vacancy_search_list&hhtmFrom=vacancy_search_list&query=Data%20engineer', 'site_from': 'hh.ru'}\n",
      "{'_id': ObjectId('62d668db83f80a0cf6eacff0'), 'vacancy_titile': 'Data Engineer / Архитектор данных', 'salary_from': 150000, 'salary_to': 250000, 'salary_currency': 'руб', 'vacancy_link': 'https://hh.ru/vacancy/67707395?from=vacancy_search_list&hhtmFrom=vacancy_search_list&query=Data%20engineer', 'site_from': 'hh.ru'}\n",
      "{'_id': ObjectId('62d668dd83f80a0cf6ead006'), 'vacancy_titile': 'Data Engineer', 'salary_from': 300000, 'salary_to': 370000, 'salary_currency': 'руб', 'vacancy_link': 'https://hh.ru/vacancy/67590513?from=vacancy_search_list&hhtmFrom=vacancy_search_list&query=Data%20engineer', 'site_from': 'hh.ru'}\n",
      "{'_id': ObjectId('62d668dd83f80a0cf6ead007'), 'vacancy_titile': 'Data Engineer', 'salary_from': 300000, 'salary_to': 370000, 'salary_currency': 'руб', 'vacancy_link': 'https://hh.ru/vacancy/67590514?from=vacancy_search_list&hhtmFrom=vacancy_search_list&query=Data%20engineer', 'site_from': 'hh.ru'}\n",
      "{'_id': ObjectId('62d668de83f80a0cf6ead00e'), 'vacancy_titile': 'Data Engineer', 'salary_from': 100000, 'salary_to': 200000, 'salary_currency': 'руб', 'vacancy_link': 'https://hh.ru/vacancy/67589325?from=vacancy_search_list&hhtmFrom=vacancy_search_list&query=Data%20engineer', 'site_from': 'hh.ru'}\n",
      "{'_id': ObjectId('62d668de83f80a0cf6ead010'), 'vacancy_titile': 'Data Engineer', 'salary_from': None, 'salary_to': 140000, 'salary_currency': 'руб', 'vacancy_link': 'https://hh.ru/vacancy/67584878?from=vacancy_search_list&hhtmFrom=vacancy_search_list&query=Data%20engineer', 'site_from': 'hh.ru'}\n",
      "{'_id': ObjectId('62d668de83f80a0cf6ead01f'), 'vacancy_titile': 'Data Engineer', 'salary_from': None, 'salary_to': 250000, 'salary_currency': 'руб', 'vacancy_link': 'https://hh.ru/vacancy/47155956?from=vacancy_search_list&hhtmFrom=vacancy_search_list&query=Data%20engineer', 'site_from': 'hh.ru'}\n",
      "{'_id': ObjectId('62d668e083f80a0cf6ead020'), 'vacancy_titile': 'Data Engineer', 'salary_from': 150000, 'salary_to': 200000, 'salary_currency': 'руб', 'vacancy_link': 'https://hh.ru/vacancy/67543526?from=vacancy_search_list&hhtmFrom=vacancy_search_list&query=Data%20engineer', 'site_from': 'hh.ru'}\n",
      "{'_id': ObjectId('62d668e283f80a0cf6ead034'), 'vacancy_titile': 'Data Engineer', 'salary_from': 280000, 'salary_to': 410000, 'salary_currency': 'руб', 'vacancy_link': 'https://hh.ru/vacancy/67508921?from=vacancy_search_list&hhtmFrom=vacancy_search_list&query=Data%20engineer', 'site_from': 'hh.ru'}\n",
      "{'_id': ObjectId('62d668e383f80a0cf6ead056'), 'vacancy_titile': 'Data Engineer', 'salary_from': 160000, 'salary_to': None, 'salary_currency': 'руб', 'vacancy_link': 'https://hh.ru/vacancy/66695631?from=vacancy_search_list&hhtmFrom=vacancy_search_list&query=Data%20engineer', 'site_from': 'hh.ru'}\n",
      "{'_id': ObjectId('62d668e783f80a0cf6ead08b'), 'vacancy_titile': 'Data Engineer (ETL)', 'salary_from': 160000, 'salary_to': 250000, 'salary_currency': 'руб', 'vacancy_link': 'https://hh.ru/vacancy/67450569?from=vacancy_search_list&hhtmFrom=vacancy_search_list&query=Data%20engineer', 'site_from': 'hh.ru'}\n",
      "{'_id': ObjectId('62d668e983f80a0cf6ead0a1'), 'vacancy_titile': 'Data инженер', 'salary_from': 120000, 'salary_to': None, 'salary_currency': 'руб', 'vacancy_link': 'https://hh.ru/vacancy/66209992?from=vacancy_search_list&hhtmFrom=vacancy_search_list&query=Data%20engineer', 'site_from': 'hh.ru'}\n",
      "{'_id': ObjectId('62d668ee83f80a0cf6ead0e9'), 'vacancy_titile': 'Senior System Engineer/DevOps', 'salary_from': 250000, 'salary_to': None, 'salary_currency': 'руб', 'vacancy_link': 'https://hh.ru/vacancy/66795433?from=vacancy_search_list&hhtmFrom=vacancy_search_list&query=Data%20engineer', 'site_from': 'hh.ru'}\n",
      "{'_id': ObjectId('62d668ee83f80a0cf6ead0f5'), 'vacancy_titile': 'Data инженер', 'salary_from': 180000, 'salary_to': None, 'salary_currency': 'руб', 'vacancy_link': 'https://hh.ru/vacancy/67375472?from=vacancy_search_list&hhtmFrom=vacancy_search_list&query=Data%20engineer', 'site_from': 'hh.ru'}\n",
      "{'_id': ObjectId('62d668ef83f80a0cf6ead100'), 'vacancy_titile': 'Data Engineer в Лабораторию Нейронаук и поведения человека', 'salary_from': 260000, 'salary_to': 280000, 'salary_currency': 'руб', 'vacancy_link': 'https://hh.ru/vacancy/67581304?from=vacancy_search_list&hhtmFrom=vacancy_search_list&query=Data%20engineer', 'site_from': 'hh.ru'}\n",
      "{'_id': ObjectId('62d668ef83f80a0cf6ead108'), 'vacancy_titile': 'ИТ- инженер 2 линии', 'salary_from': None, 'salary_to': 160000, 'salary_currency': 'руб', 'vacancy_link': 'https://hh.ru/vacancy/67803849?from=vacancy_search_list&hhtmFrom=vacancy_search_list&query=Data%20engineer', 'site_from': 'hh.ru'}\n",
      "{'_id': ObjectId('62d668f383f80a0cf6ead124'), 'vacancy_titile': 'Data-инженер (проект SberID)', 'salary_from': 250000, 'salary_to': 350000, 'salary_currency': 'руб', 'vacancy_link': 'https://hh.ru/vacancy/67473425?from=vacancy_search_list&hhtmFrom=vacancy_search_list&query=Data%20engineer', 'site_from': 'hh.ru'}\n",
      "{'_id': ObjectId('62d668f383f80a0cf6ead131'), 'vacancy_titile': 'Data-инженер', 'salary_from': 220000, 'salary_to': None, 'salary_currency': 'руб', 'vacancy_link': 'https://hh.ru/vacancy/67237935?from=vacancy_search_list&hhtmFrom=vacancy_search_list&query=Data%20engineer', 'site_from': 'hh.ru'}\n",
      "{'_id': ObjectId('62d668f383f80a0cf6ead132'), 'vacancy_titile': 'Principal Infrastructure Engineer-Architect', 'salary_from': None, 'salary_to': 500000, 'salary_currency': 'руб', 'vacancy_link': 'https://hh.ru/vacancy/55305889?from=vacancy_search_list&hhtmFrom=vacancy_search_list&query=Data%20engineer', 'site_from': 'hh.ru'}\n",
      "{'_id': ObjectId('62d668f483f80a0cf6ead142'), 'vacancy_titile': 'DevOps инженер (Senior/Middle)', 'salary_from': 180000, 'salary_to': 270000, 'salary_currency': 'руб', 'vacancy_link': 'https://hh.ru/vacancy/67779446?from=vacancy_search_list&hhtmFrom=vacancy_search_list&query=Data%20engineer', 'site_from': 'hh.ru'}\n",
      "{'_id': ObjectId('62d668f483f80a0cf6ead148'), 'vacancy_titile': 'Data-инженер (удаленно) / Data Engineer (remote)', 'salary_from': None, 'salary_to': 300000, 'salary_currency': 'руб', 'vacancy_link': 'https://hh.ru/vacancy/67284591?from=vacancy_search_list&hhtmFrom=vacancy_search_list&query=Data%20engineer', 'site_from': 'hh.ru'}\n",
      "{'_id': ObjectId('62d668f883f80a0cf6ead174'), 'vacancy_titile': 'Machine Learning Engineer', 'salary_from': None, 'salary_to': 500000, 'salary_currency': 'руб', 'vacancy_link': 'https://hh.ru/vacancy/67531287?from=vacancy_search_list&hhtmFrom=vacancy_search_list&query=Data%20engineer', 'site_from': 'hh.ru'}\n",
      "{'_id': ObjectId('62d668fa83f80a0cf6ead19e'), 'vacancy_titile': 'ETL developer/Data Engineer', 'salary_from': 200000, 'salary_to': 350000, 'salary_currency': 'руб', 'vacancy_link': 'https://hh.ru/vacancy/67097878?from=vacancy_search_list&hhtmFrom=vacancy_search_list&query=Data%20engineer', 'site_from': 'hh.ru'}\n",
      "{'_id': ObjectId('62d668fa83f80a0cf6ead1ad'), 'vacancy_titile': 'Machine Learning Engineer', 'salary_from': 200000, 'salary_to': None, 'salary_currency': 'руб', 'vacancy_link': 'https://hh.ru/vacancy/67469627?from=vacancy_search_list&hhtmFrom=vacancy_search_list&query=Data%20engineer', 'site_from': 'hh.ru'}\n",
      "{'_id': ObjectId('62d668fc83f80a0cf6ead1b5'), 'vacancy_titile': 'Principal/Senior Software Engineer (Simulators, 3D engine)', 'salary_from': 250000, 'salary_to': 380000, 'salary_currency': 'руб', 'vacancy_link': 'https://hh.ru/vacancy/67546040?from=vacancy_search_list&hhtmFrom=vacancy_search_list&query=Data%20engineer', 'site_from': 'hh.ru'}\n",
      "{'_id': ObjectId('62d668fd83f80a0cf6ead1cd'), 'vacancy_titile': 'Системный инженер', 'salary_from': 150000, 'salary_to': None, 'salary_currency': 'руб', 'vacancy_link': 'https://hh.ru/vacancy/66223684?from=vacancy_search_list&hhtmFrom=vacancy_search_list&query=Data%20engineer', 'site_from': 'hh.ru'}\n",
      "{'_id': ObjectId('62d6690083f80a0cf6ead1f6'), 'vacancy_titile': 'Middle/Leading Software Development Engineer (Backend C#)', 'salary_from': 200000, 'salary_to': 350000, 'salary_currency': 'руб', 'vacancy_link': 'https://hh.ru/vacancy/67578490?from=vacancy_search_list&hhtmFrom=vacancy_search_list&query=Data%20engineer', 'site_from': 'hh.ru'}\n",
      "{'_id': ObjectId('62d6690283f80a0cf6ead207'), 'vacancy_titile': 'Senior/Principal Software Engineer (C++)', 'salary_from': 220000, 'salary_to': 380000, 'salary_currency': 'руб', 'vacancy_link': 'https://hh.ru/vacancy/67442536?from=vacancy_search_list&hhtmFrom=vacancy_search_list&query=Data%20engineer', 'site_from': 'hh.ru'}\n",
      "{'_id': ObjectId('62d6690283f80a0cf6ead20b'), 'vacancy_titile': 'Network Administrator Unified Communication (Сетевой администратор Cisco CUCM)', 'salary_from': None, 'salary_to': 260000, 'salary_currency': 'руб', 'vacancy_link': 'https://hh.ru/vacancy/67068896?from=vacancy_search_list&hhtmFrom=vacancy_search_list&query=Data%20engineer', 'site_from': 'hh.ru'}\n",
      "{'_id': ObjectId('62d6690383f80a0cf6ead214'), 'vacancy_titile': 'Senior Python Engineer', 'salary_from': 250000, 'salary_to': 300000, 'salary_currency': 'руб', 'vacancy_link': 'https://hh.ru/vacancy/67254701?from=vacancy_search_list&hhtmFrom=vacancy_search_list&query=Data%20engineer', 'site_from': 'hh.ru'}\n",
      "{'_id': ObjectId('62d6690683f80a0cf6ead240'), 'vacancy_titile': 'ETL lead', 'salary_from': 300000, 'salary_to': 400000, 'salary_currency': 'руб', 'vacancy_link': 'https://hh.ru/vacancy/67060277?from=vacancy_search_list&hhtmFrom=vacancy_search_list&query=Data%20engineer', 'site_from': 'hh.ru'}\n",
      "{'_id': ObjectId('62d6690983f80a0cf6ead280'), 'vacancy_titile': 'Специалист по информационной безопасности/Security engineer', 'salary_from': 170000, 'salary_to': None, 'salary_currency': 'руб', 'vacancy_link': 'https://hh.ru/vacancy/67116441?from=vacancy_search_list&hhtmFrom=vacancy_search_list&query=Data%20engineer', 'site_from': 'hh.ru'}\n",
      "{'_id': ObjectId('62d6690983f80a0cf6ead281'), 'vacancy_titile': 'DevOps инженер', 'salary_from': 230000, 'salary_to': None, 'salary_currency': 'руб', 'vacancy_link': 'https://hh.ru/vacancy/67251478?from=vacancy_search_list&hhtmFrom=vacancy_search_list&query=Data%20engineer', 'site_from': 'hh.ru'}\n",
      "{'_id': ObjectId('62d6690e83f80a0cf6ead2c5'), 'vacancy_titile': 'C++ Developer (Handlers)', 'salary_from': 300000, 'salary_to': None, 'salary_currency': 'руб', 'vacancy_link': 'https://hh.ru/vacancy/67713757?from=vacancy_search_list&hhtmFrom=vacancy_search_list&query=Data%20engineer', 'site_from': 'hh.ru'}\n",
      "{'_id': ObjectId('62d6691083f80a0cf6ead2de'), 'vacancy_titile': 'Affiliate manager for India with gambling experience', 'salary_from': 100000, 'salary_to': 200000, 'salary_currency': 'руб', 'vacancy_link': 'https://hh.ru/vacancy/67881453?from=vacancy_search_list&hhtmFrom=vacancy_search_list&query=Data%20engineer', 'site_from': 'hh.ru'}\n",
      "{'_id': ObjectId('62d6691083f80a0cf6ead2df'), 'vacancy_titile': 'Affiliate manager for LATAM (with gambling experience)', 'salary_from': 100000, 'salary_to': 200000, 'salary_currency': 'руб', 'vacancy_link': 'https://hh.ru/vacancy/67881314?from=vacancy_search_list&hhtmFrom=vacancy_search_list&query=Data%20engineer', 'site_from': 'hh.ru'}\n",
      "{'_id': ObjectId('62d6691083f80a0cf6ead2e0'), 'vacancy_titile': 'BI developer (Tableau) / Аналитик BI', 'salary_from': 180000, 'salary_to': None, 'salary_currency': 'руб', 'vacancy_link': 'https://hh.ru/vacancy/67887615?from=vacancy_search_list&hhtmFrom=vacancy_search_list&query=Data%20engineer', 'site_from': 'hh.ru'}\n",
      "{'_id': ObjectId('62d6691483f80a0cf6ead306'), 'vacancy_titile': 'Senior Recruiter', 'salary_from': 200000, 'salary_to': None, 'salary_currency': 'руб', 'vacancy_link': 'https://hh.ru/vacancy/67624293?from=vacancy_search_list&hhtmFrom=vacancy_search_list&query=Data%20engineer', 'site_from': 'hh.ru'}\n",
      "{'_id': ObjectId('62d6691583f80a0cf6ead31e'), 'vacancy_titile': 'Database Developer', 'salary_from': 300000, 'salary_to': 350000, 'salary_currency': 'руб', 'vacancy_link': 'https://hh.ru/vacancy/55305911?from=vacancy_search_list&hhtmFrom=vacancy_search_list&query=Data%20engineer', 'site_from': 'hh.ru'}\n",
      "{'_id': ObjectId('62d6691683f80a0cf6ead332'), 'vacancy_titile': 'PHP Developer / PHP Разработчик', 'salary_from': 150000, 'salary_to': 300000, 'salary_currency': 'руб', 'vacancy_link': 'https://hh.ru/vacancy/55867749?from=vacancy_search_list&hhtmFrom=vacancy_search_list&query=Data%20engineer', 'site_from': 'hh.ru'}\n",
      "{'_id': ObjectId('62d6691783f80a0cf6ead343'), 'vacancy_titile': 'HR Generalist', 'salary_from': 200000, 'salary_to': 300000, 'salary_currency': 'руб', 'vacancy_link': 'https://hh.ru/vacancy/67627510?from=vacancy_search_list&hhtmFrom=vacancy_search_list&query=Data%20engineer', 'site_from': 'hh.ru'}\n",
      "{'_id': ObjectId('62d6691783f80a0cf6ead349'), 'vacancy_titile': 'Backend .NET Developer (middle/middle+)', 'salary_from': 200000, 'salary_to': None, 'salary_currency': 'руб', 'vacancy_link': 'https://hh.ru/vacancy/67386372?from=vacancy_search_list&hhtmFrom=vacancy_search_list&query=Data%20engineer', 'site_from': 'hh.ru'}\n",
      "{'_id': ObjectId('62d6691783f80a0cf6ead34a'), 'vacancy_titile': 'Senior HR Recruiter в группу компаний', 'salary_from': None, 'salary_to': 300000, 'salary_currency': 'руб', 'vacancy_link': 'https://hh.ru/vacancy/67422169?from=vacancy_search_list&hhtmFrom=vacancy_search_list&query=Data%20engineer', 'site_from': 'hh.ru'}\n",
      "{'_id': ObjectId('62d6691783f80a0cf6ead34e'), 'vacancy_titile': 'Senior Product Manager, Buyers Track', 'salary_from': 300000, 'salary_to': None, 'salary_currency': 'руб', 'vacancy_link': 'https://hh.ru/vacancy/67726953?from=vacancy_search_list&hhtmFrom=vacancy_search_list&query=Data%20engineer', 'site_from': 'hh.ru'}\n",
      "{'_id': ObjectId('62d6691d83f80a0cf6ead399'), 'vacancy_titile': 'Руководитель BI', 'salary_from': 400000, 'salary_to': 500000, 'salary_currency': 'руб', 'vacancy_link': 'https://hh.ru/vacancy/67552159?from=vacancy_search_list&hhtmFrom=vacancy_search_list&query=Data%20engineer', 'site_from': 'hh.ru'}\n",
      "{'_id': ObjectId('62d6692083f80a0cf6ead3be'), 'vacancy_titile': 'Fullstack C# Разработчик (удаленная работа)', 'salary_from': 150000, 'salary_to': None, 'salary_currency': 'руб', 'vacancy_link': 'https://hh.ru/vacancy/67620782?from=vacancy_search_list&hhtmFrom=vacancy_search_list&query=Data%20engineer', 'site_from': 'hh.ru'}\n",
      "{'_id': ObjectId('62d6692283f80a0cf6ead3e1'), 'vacancy_titile': 'Mathematical Modeler', 'salary_from': 240000, 'salary_to': None, 'salary_currency': 'руб', 'vacancy_link': 'https://hh.ru/vacancy/67511917?from=vacancy_search_list&hhtmFrom=vacancy_search_list&query=Data%20engineer', 'site_from': 'hh.ru'}\n",
      "{'_id': ObjectId('62d6692483f80a0cf6ead3f8'), 'vacancy_titile': 'Upwork Менеджер по развитию бизнеса / продажам (удаленно)', 'salary_from': 20000, 'salary_to': 150000, 'salary_currency': 'руб', 'vacancy_link': 'https://hh.ru/vacancy/67497687?from=vacancy_search_list&hhtmFrom=vacancy_search_list&query=Data%20engineer', 'site_from': 'hh.ru'}\n",
      "{'_id': ObjectId('62d6692483f80a0cf6ead405'), 'vacancy_titile': 'Performance Marketing Manager', 'salary_from': 280000, 'salary_to': 347000, 'salary_currency': 'руб', 'vacancy_link': 'https://hh.ru/vacancy/67584736?from=vacancy_search_list&hhtmFrom=vacancy_search_list&query=Data%20engineer', 'site_from': 'hh.ru'}\n",
      "{'_id': ObjectId('62d6692683f80a0cf6ead41f'), 'vacancy_titile': 'Credit Risk Analyst for a global FinTech startup', 'salary_from': None, 'salary_to': 650000, 'salary_currency': 'руб', 'vacancy_link': 'https://hh.ru/vacancy/55894748?from=vacancy_search_list&hhtmFrom=vacancy_search_list&query=Data%20engineer', 'site_from': 'hh.ru'}\n",
      "{'_id': ObjectId('62d6692983f80a0cf6ead447'), 'vacancy_titile': 'C++ Software Developer', 'salary_from': 60000, 'salary_to': 110000, 'salary_currency': 'руб', 'vacancy_link': 'https://hh.ru/vacancy/66980965?from=vacancy_search_list&hhtmFrom=vacancy_search_list&query=Data%20engineer', 'site_from': 'hh.ru'}\n",
      "{'_id': ObjectId('62d6692d83f80a0cf6ead47b'), 'vacancy_titile': 'Middle Backend Java Developer', 'salary_from': 200000, 'salary_to': None, 'salary_currency': 'руб', 'vacancy_link': 'https://hh.ru/vacancy/54206175?from=vacancy_search_list&hhtmFrom=vacancy_search_list&query=Data%20engineer', 'site_from': 'hh.ru'}\n",
      "{'_id': ObjectId('62d6692f83f80a0cf6ead49a'), 'vacancy_titile': 'PHP Developer (Product Team)', 'salary_from': 200000, 'salary_to': None, 'salary_currency': 'руб', 'vacancy_link': 'https://hh.ru/vacancy/67152372?from=vacancy_search_list&hhtmFrom=vacancy_search_list&query=Data%20engineer', 'site_from': 'hh.ru'}\n"
     ]
    }
   ],
   "source": [
    "client= pymongo.MongoClient('127.0.0.1',27017)\n",
    "db = client['HH_ru_vacancies'] #database\n",
    "vacancies = db.vacancies #collection\n",
    "salary_filter = 100000 \n",
    "\n",
    "documents =vacancies.find({\"$or\":[\n",
    "                {\"salary_from\":{\"$gt\":salary_filter}},\n",
    "                {\"salary_to\":{\"$gt\":salary_filter}}],\n",
    "                  \"salary_currency\":\"руб\"\n",
    "                  })\n",
    "\n",
    "for i in documents:\n",
    "    print(i)"
   ]
  },
  {
   "cell_type": "code",
   "execution_count": null,
   "id": "71ab5175",
   "metadata": {},
   "outputs": [],
   "source": []
  }
 ],
 "metadata": {
  "kernelspec": {
   "display_name": "Python 3 (ipykernel)",
   "language": "python",
   "name": "python3"
  },
  "language_info": {
   "codemirror_mode": {
    "name": "ipython",
    "version": 3
   },
   "file_extension": ".py",
   "mimetype": "text/x-python",
   "name": "python",
   "nbconvert_exporter": "python",
   "pygments_lexer": "ipython3",
   "version": "3.9.12"
  }
 },
 "nbformat": 4,
 "nbformat_minor": 5
}
